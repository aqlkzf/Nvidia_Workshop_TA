{
 "cells": [
  {
   "cell_type": "markdown",
   "metadata": {},
   "source": [
    "<div align=\"center\"><img src=\"./images/DLI_Header.png\"></div>"
   ]
  },
  {
   "cell_type": "markdown",
   "metadata": {},
   "source": [
    "# Project: Biodefense"
   ]
  },
  {
   "cell_type": "markdown",
   "metadata": {},
   "source": [
    "In this section of the workshop you will put together all the techniques you have learned to perform several data analysis tasks in support of stopping a simulated epidemic affecting the United Kingdom."
   ]
  },
  {
   "cell_type": "markdown",
   "metadata": {},
   "source": [
    "## Section 3 Table of Contents"
   ]
  },
  {
   "cell_type": "markdown",
   "metadata": {},
   "source": [
    "**3-01_intro.ipynb**: This notebook.\n",
    "\n",
    "**3-02_find_infected.ipynb**: Week 1: Find geographic clusters of infected people.\n",
    "\n",
    "**3-03_nearest_facilities.ipynb**: Week 2: Locate the nearest health facilities for infected people.\n",
    "\n",
    "**3-04_identify_risk_factors.ipynb**: Week 3: Identify risk factors for infection.\n",
    "\n",
    "**section1_reference**: All the Section 1 notebooks, for your reference, if needed.\n",
    "\n",
    "**section2_reference**: All the Section 2 notebooks, for your reference, if needed."
   ]
  }
 ],
 "metadata": {
  "kernelspec": {
   "display_name": "Python 3",
   "language": "python",
   "name": "python3"
  },
  "language_info": {
   "codemirror_mode": {
    "name": "ipython",
    "version": 3
   },
   "file_extension": ".py",
   "mimetype": "text/x-python",
   "name": "python",
   "nbconvert_exporter": "python",
   "pygments_lexer": "ipython3",
   "version": "3.6.7"
  }
 },
 "nbformat": 4,
 "nbformat_minor": 4
}
